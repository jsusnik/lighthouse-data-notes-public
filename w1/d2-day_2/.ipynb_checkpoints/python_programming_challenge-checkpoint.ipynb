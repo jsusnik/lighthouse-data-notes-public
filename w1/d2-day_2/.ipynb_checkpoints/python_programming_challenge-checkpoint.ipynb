{
 "cells": [
  {
   "cell_type": "markdown",
   "metadata": {},
   "source": [
    "# Python Programming Challenge\n",
    "\n",
    "## Poker Hand\n",
    "\n",
    "In this challenge, we have to determine which kind of Poker combination is present in a deck of 5 cards. Every card is a string containing the card value **with the upper-case initial for face-cards** and the **lower-case initial for the suit**, as seen in the examples below:\n",
    "\n",
    "> \"Ah\" ➞ Ace of hearts <br>\n",
    "> \"Ks\" ➞ King of spades<br>\n",
    "> \"3d\" ➞ Three of diamonds<br>\n",
    "> \"Qc\" ➞ Queen of clubs <br>\n",
    "\n",
    "There are 10 different combinations. Here's the list, in descending order of importance:"
   ]
  },
  {
   "cell_type": "markdown",
   "metadata": {},
   "source": [
    "| Name            | Description                                         |\n",
    "|-----------------|-----------------------------------------------------|\n",
    "| Royal Flush     | A, K, Q, J, 10, all with the same suit.             |\n",
    "| Straight Flush  | Five cards in sequence, all with the same suit.     |\n",
    "| Four of a Kind  | Four cards of the same rank.                        |\n",
    "| Full House      | Three of a Kind with a Pair.                        |\n",
    "| Flush           | Any five cards of the same suit, not in sequence    |\n",
    "| Straight        | Five cards in a sequence, but not of the same suit. |\n",
    "| Three of a Kind | Three cards of the same rank.                       |\n",
    "| Two Pair        | Two different Pairs.                                |\n",
    "| Pair            | Two cards of the same rank.                         |\n",
    "| High Card       | No other valid combination.                         |\n",
    "\n",
    "---------"
   ]
  },
  {
   "cell_type": "markdown",
   "metadata": {},
   "source": [
    "#### 1. Given a list `hand` containing five strings being the cards. Implement a function called `poker_hand_ranking` that **returns a string with the name of the highest combination obtained.** According to the table above.\n",
    "\n",
    "**Examples:**\n",
    "\n",
    "> poker_hand_ranking([\"10h\", \"Jh\", \"Qh\", \"Ah\", \"Kh\"]) ➞ \"Royal Flush\"<br>\n",
    "> poker_hand_ranking([\"3h\", \"5h\", \"Qs\", \"9h\", \"Ad\"]) ➞ \"High Card\"<br>\n",
    "> poker_hand_ranking([\"10s\", \"10c\", \"8d\", \"10d\", \"10h\"]) ➞ \"Four of a Kind\"<br>"
   ]
  },
  {
   "cell_type": "code",
   "execution_count": 45,
   "metadata": {},
   "outputs": [],
   "source": [
    "hand1 = [\"10h\", \"Jh\", \"Qh\", \"Ah\", \"Kh\"]\n",
    "hand2 = [\"3h\", \"5h\", \"Qs\", \"9h\", \"Ad\"]\n",
    "hand3 = [\"10s\", \"10c\", \"8d\", \"10d\", \"10h\"]\n",
    "hand4 = [\"4s\", \"6s\", \"5s\", \"7s\", \"3s\"]\n",
    "hand5 = [\"4s\", \"4d\", \"4h\", \"7s\", \"3s\"]\n",
    "hand6 = [\"4s\", \"4d\", \"7h\", \"7s\", \"3s\"]\n",
    "hand7 = [\"4s\", \"4d\", \"7h\", \"10s\", \"3s\"]\n",
    "hand8 = [\"4s\", \"4d\", \"7h\", \"7s\", \"7d\"]\n",
    "hand9 = [\"As\", \"2d\", \"3h\", \"4s\", \"5d\"]"
   ]
  },
  {
   "cell_type": "code",
   "execution_count": null,
   "metadata": {},
   "outputs": [],
   "source": []
  },
  {
   "cell_type": "code",
   "execution_count": 46,
   "metadata": {},
   "outputs": [],
   "source": [
    "from collections import Counter, defaultdict\n",
    "\n",
    "\n",
    "def poker_hand_ranking(hand):\n",
    "    i = 0\n",
    "\n",
    "    card = []\n",
    "    suit = []\n",
    "    \n",
    "    for cards in hand:\n",
    "        #get suits and cards\n",
    "        suit.append(str(hand[i][-1]))\n",
    "        card.append(str(hand[i][0:-1]))\n",
    "        #print(suit[i])\n",
    "        #print(card[i])\n",
    "        i+=1\n",
    "    \n",
    "    s_count = Counter(suit)\n",
    "    c_count = Counter(card)\n",
    "    \n",
    "    print(s_count)\n",
    "    print(s_count.keys())\n",
    "    print(c_count)\n",
    "    print(c_count.keys())\n",
    "    \n",
    "    \n",
    "    \n",
    "    # Royal Flush\n",
    "    #if sum(s_count.values()) > 4:\n",
    "        \n",
    "        \n",
    "        "
   ]
  },
  {
   "cell_type": "code",
   "execution_count": 47,
   "metadata": {},
   "outputs": [
    {
     "name": "stdout",
     "output_type": "stream",
     "text": [
      "Counter({'h': 5})\n",
      "dict_keys(['h'])\n",
      "Counter({'10': 1, 'J': 1, 'Q': 1, 'A': 1, 'K': 1})\n",
      "dict_keys(['10', 'J', 'Q', 'A', 'K'])\n"
     ]
    }
   ],
   "source": [
    "poker_hand_ranking(hand1)\n",
    "#poker_hand_ranking(hand3)"
   ]
  },
  {
   "cell_type": "code",
   "execution_count": 48,
   "metadata": {},
   "outputs": [],
   "source": [
    "from collections import Counter, defaultdict\n",
    "\n",
    "#hand1 = [\"10h\", \"Jh\", \"Qh\", \"Ah\", \"Kh\"]\n",
    "#hand2 = [\"3h\", \"5h\", \"Qs\", \"9h\", \"Ad\"]\n",
    "#hand3 = [\"10s\", \"10c\", \"8d\", \"10d\", \"10h\"]\n",
    "#hand4 = [\"4s\", \"6s\", \"5s\", \"7s\", \"3s\"]\n",
    "\n",
    "def poker_hand_ranking(hand):\n",
    "    \n",
    "    card_rank = {\"2\":2, \"3\":3, \"4\":4, \"5\":5, \"6\":6, \"7\":7, \"8\":8, \"9\":9, \"10\":10, \"J\":11, \"Q\":12, \"K\":13, \"A\":14}\n",
    "    #suit_id = {\"c\":1, \"d\":2, \"h\":3, \"s\":4} # not used\n",
    "    \n",
    "    values = [i[0:-1] for i in hand]\n",
    "    #print(values)\n",
    "    suits = [i[-1] for i in hand]                          \n",
    "    #print(suits)\n",
    "    \n",
    "    value_count = defaultdict(int)\n",
    "    suit_count = defaultdict(int)\n",
    "    \n",
    "    for v in values:\n",
    "        value_count[v] +=1\n",
    "    \n",
    "    #for s in suits:\n",
    "        #suit_count[s] +=1\n",
    "\n",
    "    #values_c = Counter(values)\n",
    "    #suits_c = Counter(suits)\n",
    "\n",
    "    \n",
    "    rank_values = [card_rank[i] for i in values]\n",
    "    #print(rank_values)\n",
    "    #print(str(type(rank_values)))\n",
    "    value_range = max(rank_values) - min(rank_values)\n",
    "    #print(value_range)\n",
    "    \n",
    "    #if len(set(value_count.values())) == 1 and (value_range == 4) and (len(set(suits_c)) == 1) and (max(rank_values) == 14):\n",
    "    if len(set(value_count.values())) == 1 and (value_range == 4) and (len(set(Counter(suits))) == 1) and (max(rank_values) == 14):\n",
    "        print(\"Royal Flush\")\n",
    "        return \n",
    "    elif len(set(value_count.values())) == 1 and (value_range == 4) and (len(set(Counter(suits))) == 1):\n",
    "        print(\"Straight Flush\")\n",
    "        return\n",
    "    elif sorted(value_count.values()) == [1,4]:\n",
    "        print(\"Four of a Kind\")\n",
    "        return \n",
    "    elif sorted(value_count.values()) == [2,3]:\n",
    "        print(\"Full House\")\n",
    "        return\n",
    "    elif len(set(Counter(suits))) == 1:\n",
    "        print(\"Flush\")\n",
    "        return\n",
    "    elif len(set(value_count.values())) == 1 and (value_range == 4):\n",
    "        print(\"Straight\")\n",
    "        return\n",
    "    elif set(value_count.values()) == set([3,1]):\n",
    "        print(\"Three of a Kind\")\n",
    "        return \n",
    "    elif sorted(value_count.values()) == [1,2,2]:\n",
    "        print(\"Two Pair\")\n",
    "        return \n",
    "    elif 2 in value_count.values():\n",
    "        print(\"Pair\")\n",
    "        return\n",
    "    else:\n",
    "        print(\"High Card\")\n",
    "        return \n"
   ]
  },
  {
   "cell_type": "code",
   "execution_count": 49,
   "metadata": {},
   "outputs": [
    {
     "name": "stdout",
     "output_type": "stream",
     "text": [
      "Royal Flush\n",
      "High Card\n",
      "Four of a Kind\n",
      "Straight Flush\n",
      "Three of a Kind\n",
      "Two Pair\n",
      "Pair\n",
      "Full House\n",
      "High Card\n"
     ]
    }
   ],
   "source": [
    "poker_hand_ranking(hand1)\n",
    "poker_hand_ranking(hand2)\n",
    "poker_hand_ranking(hand3)\n",
    "poker_hand_ranking(hand4)\n",
    "poker_hand_ranking(hand5)\n",
    "poker_hand_ranking(hand6)\n",
    "poker_hand_ranking(hand7)\n",
    "poker_hand_ranking(hand8)\n",
    "poker_hand_ranking(hand9) # need to fix this; low Ace straight"
   ]
  },
  {
   "cell_type": "markdown",
   "metadata": {},
   "source": [
    "------------\n",
    "### **Stretch Content**\n",
    "\n",
    "#### 2.  Implement a function `winner_is` that returns the winner given a dictionary with different players and their hands. \n",
    "**Example**\n",
    "\n",
    "We define dictionary like\n",
    "```python\n",
    "round_1 = {\"John\" = [\"10h\", \"Jh\", \"Qh\", \"Ah\", \"Kh\"], \n",
    "        \"Peter\" = [\"3h\", \"5h\", \"Qs\", \"9h\", \"Ad\"]}\n",
    "```\n",
    "\n",
    "Our function returns the name of the winner:\n",
    "> winner_is(round_1) --> \"John\"\n",
    "\n",
    "One table can have up to 10 players.\n"
   ]
  },
  {
   "cell_type": "code",
   "execution_count": null,
   "metadata": {},
   "outputs": [],
   "source": []
  },
  {
   "cell_type": "code",
   "execution_count": null,
   "metadata": {},
   "outputs": [],
   "source": []
  },
  {
   "cell_type": "code",
   "execution_count": null,
   "metadata": {},
   "outputs": [],
   "source": []
  },
  {
   "cell_type": "code",
   "execution_count": null,
   "metadata": {},
   "outputs": [],
   "source": []
  },
  {
   "cell_type": "markdown",
   "metadata": {},
   "source": [
    "#### 3. Create a function `distribute_cards` that randomly generates and gives 5 cards to every player given a list of player names.\n",
    "\n",
    "**Example**\n",
    "\n",
    "> distribute_cards([\"John\",\"Peter\"])  -> round_1 = {\"John\" = [\"10h\", \"Jh\", \"Qh\", \"Ah\", \"Kh\"], \n",
    "        \"Peter\" = [\"3h\", \"5h\", \"Qs\", \"9h\", \"Ad\"]\n",
    "}"
   ]
  },
  {
   "cell_type": "code",
   "execution_count": null,
   "metadata": {},
   "outputs": [],
   "source": []
  },
  {
   "cell_type": "code",
   "execution_count": null,
   "metadata": {},
   "outputs": [],
   "source": []
  },
  {
   "cell_type": "code",
   "execution_count": null,
   "metadata": {},
   "outputs": [],
   "source": []
  },
  {
   "cell_type": "code",
   "execution_count": null,
   "metadata": {},
   "outputs": [],
   "source": []
  }
 ],
 "metadata": {
  "kernelspec": {
   "display_name": "Python 3",
   "language": "python",
   "name": "python3"
  },
  "language_info": {
   "codemirror_mode": {
    "name": "ipython",
    "version": 3
   },
   "file_extension": ".py",
   "mimetype": "text/x-python",
   "name": "python",
   "nbconvert_exporter": "python",
   "pygments_lexer": "ipython3",
   "version": "3.8.8"
  }
 },
 "nbformat": 4,
 "nbformat_minor": 4
}
