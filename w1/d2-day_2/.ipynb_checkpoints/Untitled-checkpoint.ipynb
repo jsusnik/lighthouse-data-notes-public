{
 "cells": [
  {
   "cell_type": "code",
   "execution_count": 1,
   "id": "ae7b9ddc-dad6-45dd-8b51-28e0081a0e31",
   "metadata": {},
   "outputs": [],
   "source": [
    "import requests as re\n",
    "import os"
   ]
  },
  {
   "cell_type": "code",
   "execution_count": null,
   "id": "28b10df8-0453-410b-a09f-9fc6aeeb9d3a",
   "metadata": {},
   "outputs": [],
   "source": [
    "client_id = os.environ[\"FOURSQUARE_CLIENT_ID\"]\n",
    "client_secret = os.environ[\"FOURSQUARE_CLIENT_SECRET\"]"
   ]
  }
 ],
 "metadata": {
  "kernelspec": {
   "display_name": "Python 3",
   "language": "python",
   "name": "python3"
  },
  "language_info": {
   "codemirror_mode": {
    "name": "ipython",
    "version": 3
   },
   "file_extension": ".py",
   "mimetype": "text/x-python",
   "name": "python",
   "nbconvert_exporter": "python",
   "pygments_lexer": "ipython3",
   "version": "3.8.8"
  }
 },
 "nbformat": 4,
 "nbformat_minor": 5
}
