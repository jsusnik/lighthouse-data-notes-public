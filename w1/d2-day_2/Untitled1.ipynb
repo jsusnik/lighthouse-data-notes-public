{
 "cells": [
  {
   "cell_type": "code",
   "execution_count": 1,
   "id": "a2f3b753-888b-46d9-8383-d0ac8188a9c3",
   "metadata": {},
   "outputs": [],
   "source": [
    "import requests as re\n",
    "import os"
   ]
  },
  {
   "cell_type": "code",
   "execution_count": 4,
   "id": "7a57df8d-951b-4456-a60a-a8ff00d6a870",
   "metadata": {},
   "outputs": [
    {
     "name": "stdout",
     "output_type": "stream",
     "text": [
      "environ({'ACLOCAL_PATH': 'C:\\\\Program Files\\\\Git\\\\mingw64\\\\share\\\\aclocal;C:\\\\Program Files\\\\Git\\\\usr\\\\share\\\\aclocal', 'ALLUSERSPROFILE': 'C:\\\\ProgramData', 'APPDATA': 'C:\\\\Users\\\\jsusn\\\\AppData\\\\Roaming', 'COMMONPROGRAMFILES': 'C:\\\\Program Files\\\\Common Files', 'COMPUTERNAME': 'JSUSNIK', 'COMSPEC': 'C:\\\\Windows\\\\system32\\\\cmd.exe', 'CONFIG_SITE': 'C:/Program Files/Git/etc/config.site', 'COMMONPROGRAMFILES(X86)': 'C:\\\\Program Files (x86)\\\\Common Files', 'COMMONPROGRAMW6432': 'C:\\\\Program Files\\\\Common Files', 'DISPLAY': 'needs-to-be-defined', 'DRIVERDATA': 'C:\\\\Windows\\\\System32\\\\Drivers\\\\DriverData', 'EXEPATH': 'C:\\\\Program Files\\\\Git', 'HOME': 'C:\\\\Users\\\\jsusn', 'HOMEDRIVE': 'C:', 'HOMEPATH': '\\\\Users\\\\jsusn', 'HOSTNAME': 'jSusnik', 'INFOPATH': 'C:\\\\Program Files\\\\Git\\\\usr\\\\local\\\\info;C:\\\\Program Files\\\\Git\\\\usr\\\\share\\\\info;C:\\\\Program Files\\\\Git\\\\usr\\\\info;C:\\\\Program Files\\\\Git\\\\share\\\\info', 'LC_CTYPE': 'en_US.UTF-8', 'LOCALAPPDATA': 'C:\\\\Users\\\\jsusn\\\\AppData\\\\Local', 'LOGONSERVER': '\\\\\\\\JSUSNIK', 'MANPATH': 'C:\\\\Program Files\\\\Git\\\\mingw64\\\\local\\\\man;C:\\\\Program Files\\\\Git\\\\mingw64\\\\share\\\\man;C:\\\\Program Files\\\\Git\\\\usr\\\\local\\\\man;C:\\\\Program Files\\\\Git\\\\usr\\\\share\\\\man;C:\\\\Program Files\\\\Git\\\\usr\\\\man;C:\\\\Program Files\\\\Git\\\\share\\\\man', 'MINGW_CHOST': 'x86_64-w64-mingw32', 'MINGW_PACKAGE_PREFIX': 'mingw-w64-x86_64', 'MINGW_PREFIX': 'C:/Program Files/Git/mingw64', 'MSYSTEM': 'MINGW64', 'MSYSTEM_CARCH': 'x86_64', 'MSYSTEM_CHOST': 'x86_64-w64-mingw32', 'MSYSTEM_PREFIX': 'C:/Program Files/Git/mingw64', 'NUMBER_OF_PROCESSORS': '16', 'ORIGINAL_PATH': 'C:\\\\Program Files\\\\Git\\\\mingw64\\\\bin;C:\\\\Program Files\\\\Git\\\\usr\\\\bin;C:\\\\Users\\\\jsusn\\\\bin;C:\\\\Windows\\\\system32;C:\\\\Windows;C:\\\\Windows\\\\System32\\\\Wbem;C:\\\\Windows\\\\System32\\\\WindowsPowerShell\\\\v1.0;C:\\\\Windows\\\\System32\\\\OpenSSH;C:\\\\Program Files\\\\NVIDIA Corporation\\\\NVIDIA NvDLISR;C:\\\\Program Files (x86)\\\\NVIDIA Corporation\\\\PhysX\\\\Common;C:\\\\Program Files\\\\Git\\\\cmd;C:\\\\Users\\\\jsusn\\\\anaconda3;C:\\\\Users\\\\jsusn\\\\anaconda3\\\\Library\\\\mingw-w64\\\\bin;C:\\\\Users\\\\jsusn\\\\anaconda3\\\\Library\\\\usr\\\\bin;C:\\\\Users\\\\jsusn\\\\anaconda3\\\\Library\\\\bin;C:\\\\Users\\\\jsusn\\\\anaconda3\\\\Scripts;C:\\\\Users\\\\jsusn\\\\AppData\\\\Local\\\\Programs\\\\Python\\\\Python39\\\\Scripts;C:\\\\Users\\\\jsusn\\\\AppData\\\\Local\\\\Programs\\\\Python\\\\Python39;C:\\\\Users\\\\jsusn\\\\AppData\\\\Local\\\\Microsoft\\\\WindowsApps;C:\\\\Users\\\\jsusn\\\\AppData\\\\Local\\\\GitHubDesktop\\\\bin;C:\\\\Users\\\\jsusn\\\\AppData\\\\Local\\\\Programs\\\\Microsoft VS Code\\\\bin', 'ORIGINAL_TEMP': 'C:/Users/jsusn/AppData/Local/Temp', 'ORIGINAL_TMP': 'C:/Users/jsusn/AppData/Local/Temp', 'OS': 'Windows_NT', 'ONEDRIVE': 'C:\\\\Users\\\\jsusn\\\\OneDrive', 'ONEDRIVECONSUMER': 'C:\\\\Users\\\\jsusn\\\\OneDrive', 'PATH': 'C:\\\\Users\\\\jsusn\\\\bin;C:\\\\Program Files\\\\Git\\\\mingw64\\\\bin;C:\\\\Program Files\\\\Git\\\\usr\\\\local\\\\bin;C:\\\\Program Files\\\\Git\\\\usr\\\\bin;C:\\\\Program Files\\\\Git\\\\usr\\\\bin;C:\\\\Program Files\\\\Git\\\\mingw64\\\\bin;C:\\\\Program Files\\\\Git\\\\usr\\\\bin;C:\\\\Users\\\\jsusn\\\\bin;C:\\\\Windows\\\\system32;C:\\\\Windows;C:\\\\Windows\\\\System32\\\\Wbem;C:\\\\Windows\\\\System32\\\\WindowsPowerShell\\\\v1.0;C:\\\\Windows\\\\System32\\\\OpenSSH;C:\\\\Program Files\\\\NVIDIA Corporation\\\\NVIDIA NvDLISR;C:\\\\Program Files (x86)\\\\NVIDIA Corporation\\\\PhysX\\\\Common;C:\\\\Program Files\\\\Git\\\\cmd;C:\\\\Users\\\\jsusn\\\\anaconda3;C:\\\\Users\\\\jsusn\\\\anaconda3\\\\Library\\\\mingw-w64\\\\bin;C:\\\\Users\\\\jsusn\\\\anaconda3\\\\Library\\\\usr\\\\bin;C:\\\\Users\\\\jsusn\\\\anaconda3\\\\Library\\\\bin;C:\\\\Users\\\\jsusn\\\\anaconda3\\\\Scripts;C:\\\\Users\\\\jsusn\\\\AppData\\\\Local\\\\Programs\\\\Python\\\\Python39\\\\Scripts;C:\\\\Users\\\\jsusn\\\\AppData\\\\Local\\\\Programs\\\\Python\\\\Python39;C:\\\\Users\\\\jsusn\\\\AppData\\\\Local\\\\Microsoft\\\\WindowsApps;C:\\\\Users\\\\jsusn\\\\AppData\\\\Local\\\\GitHubDesktop\\\\bin;C:\\\\Users\\\\jsusn\\\\AppData\\\\Local\\\\Programs\\\\Microsoft VS Code\\\\bin;C:\\\\Program Files\\\\Git\\\\usr\\\\bin\\\\vendor_perl;C:\\\\Program Files\\\\Git\\\\usr\\\\bin\\\\core_perl', 'PATHEXT': '.COM;.EXE;.BAT;.CMD;.VBS;.VBE;.JS;.JSE;.WSF;.WSH;.MSC', 'PKG_CONFIG_PATH': 'C:\\\\Program Files\\\\Git\\\\mingw64\\\\lib\\\\pkgconfig;C:\\\\Program Files\\\\Git\\\\mingw64\\\\share\\\\pkgconfig', 'PLINK_PROTOCOL': 'ssh', 'PROCESSOR_ARCHITECTURE': 'AMD64', 'PROCESSOR_IDENTIFIER': 'Intel64 Family 6 Model 158 Stepping 13, GenuineIntel', 'PROCESSOR_LEVEL': '6', 'PROCESSOR_REVISION': '9e0d', 'PROGRAMFILES': 'C:\\\\Program Files', 'PS1': '\\\\[\\\\033]0;$TITLEPREFIX:$PWD\\\\007\\\\]\\\\n\\\\[\\\\033[32m\\\\]\\\\u@\\\\h \\\\[\\\\033[35m\\\\]$MSYSTEM \\\\[\\\\033[33m\\\\]\\\\w\\\\[\\\\033[36m\\\\]`__git_ps1`\\\\[\\\\033[0m\\\\]\\\\n$ ', 'PSMODULEPATH': 'C:\\\\Program Files\\\\WindowsPowerShell\\\\Modules;C:\\\\Windows\\\\system32\\\\WindowsPowerShell\\\\v1.0\\\\Modules', 'PUBLIC': 'C:\\\\Users\\\\Public', 'PWD': 'C:/Users/jsusn', 'PROGRAMDATA': 'C:\\\\ProgramData', 'PROGRAMFILES(X86)': 'C:\\\\Program Files (x86)', 'PROGRAMW6432': 'C:\\\\Program Files', 'SESSIONNAME': 'Console', 'SHELL': 'C:\\\\Program Files\\\\Git\\\\usr\\\\bin\\\\bash.exe', 'SHLVL': '1', 'SSH_ASKPASS': 'C:/Program Files/Git/mingw64/libexec/git-core/git-gui--askpass', 'SYSTEMDRIVE': 'C:', 'SYSTEMROOT': 'C:\\\\Windows', 'TEMP': 'C:\\\\Users\\\\jsusn\\\\AppData\\\\Local\\\\Temp', 'TERM': 'xterm-color', 'TERM_PROGRAM': 'mintty', 'TERM_PROGRAM_VERSION': '3.5.0', 'TMP': 'C:\\\\Users\\\\jsusn\\\\AppData\\\\Local\\\\Temp', 'TMPDIR': 'C:\\\\Users\\\\jsusn\\\\AppData\\\\Local\\\\Temp', 'USERDOMAIN': 'JSUSNIK', 'USERDOMAIN_ROAMINGPROFILE': 'JSUSNIK', 'USERNAME': 'jsusn', 'USERPROFILE': 'C:\\\\Users\\\\jsusn', 'WINDIR': 'C:\\\\Windows', '_': 'C:/Users/jsusn/anaconda3/Scripts/jupyter', 'JPY_INTERRUPT_EVENT': '2884', 'IPY_INTERRUPT_EVENT': '2884', 'JPY_PARENT_PID': '1636', 'CLICOLOR': '1', 'PAGER': 'cat', 'GIT_PAGER': 'cat', 'MPLBACKEND': 'module://ipykernel.pylab.backend_inline'})\n"
     ]
    }
   ],
   "source": [
    "#client_id = os.environ[\"FOURSQUARE_CLIENT_ID\"]\n",
    "print(os.environ)"
   ]
  },
  {
   "cell_type": "code",
   "execution_count": null,
   "id": "55a0d975-fd63-4c1b-98b4-c1b1cc149782",
   "metadata": {},
   "outputs": [],
   "source": []
  }
 ],
 "metadata": {
  "kernelspec": {
   "display_name": "Python 3",
   "language": "python",
   "name": "python3"
  },
  "language_info": {
   "codemirror_mode": {
    "name": "ipython",
    "version": 3
   },
   "file_extension": ".py",
   "mimetype": "text/x-python",
   "name": "python",
   "nbconvert_exporter": "python",
   "pygments_lexer": "ipython3",
   "version": "3.8.8"
  }
 },
 "nbformat": 4,
 "nbformat_minor": 5
}
