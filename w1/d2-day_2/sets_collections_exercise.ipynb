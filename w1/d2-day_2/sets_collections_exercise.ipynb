{
 "cells": [
  {
   "cell_type": "markdown",
   "metadata": {},
   "source": [
    "# Sets, Collections, & Exception Handling \n",
    "\n",
    "## Sets"
   ]
  },
  {
   "cell_type": "markdown",
   "metadata": {},
   "source": [
    "* create a new empty set\n",
    "* print that set"
   ]
  },
  {
   "cell_type": "code",
   "execution_count": 1,
   "metadata": {
    "ExecuteTime": {
     "end_time": "2020-04-23T12:46:18.460389Z",
     "start_time": "2020-04-23T12:46:18.455558Z"
    }
   },
   "outputs": [
    {
     "name": "stdout",
     "output_type": "stream",
     "text": [
      "set()\n"
     ]
    }
   ],
   "source": [
    "x = set()\n",
    "print(x)"
   ]
  },
  {
   "cell_type": "markdown",
   "metadata": {},
   "source": [
    "* create a non empty set\n",
    "* print that set"
   ]
  },
  {
   "cell_type": "code",
   "execution_count": 2,
   "metadata": {
    "ExecuteTime": {
     "end_time": "2020-04-23T12:46:19.054630Z",
     "start_time": "2020-04-23T12:46:19.049150Z"
    }
   },
   "outputs": [
    {
     "name": "stdout",
     "output_type": "stream",
     "text": [
      "{'tst', 'long test', 52, 53, 54, 'test', 55}\n"
     ]
    }
   ],
   "source": [
    "y = set(['test',52,'test',53,'long test',54,'tst',55,53,52])\n",
    "print(y)"
   ]
  },
  {
   "cell_type": "markdown",
   "metadata": {},
   "source": [
    "* iterate over the set and print results"
   ]
  },
  {
   "cell_type": "code",
   "execution_count": 3,
   "metadata": {
    "ExecuteTime": {
     "end_time": "2020-04-23T12:46:19.563824Z",
     "start_time": "2020-04-23T12:46:19.559855Z"
    }
   },
   "outputs": [
    {
     "name": "stdout",
     "output_type": "stream",
     "text": [
      "tst\n",
      "long test\n",
      "52\n",
      "53\n",
      "54\n",
      "test\n",
      "55\n"
     ]
    }
   ],
   "source": [
    "for i in y:\n",
    "    print(i)"
   ]
  },
  {
   "cell_type": "markdown",
   "metadata": {},
   "source": [
    "* add one item to the set"
   ]
  },
  {
   "cell_type": "code",
   "execution_count": 4,
   "metadata": {
    "ExecuteTime": {
     "end_time": "2020-04-23T12:46:20.119320Z",
     "start_time": "2020-04-23T12:46:20.112837Z"
    }
   },
   "outputs": [
    {
     "name": "stdout",
     "output_type": "stream",
     "text": [
      "{'tst', 'long test', 52, 53, 54, 'test', 55, 60}\n"
     ]
    }
   ],
   "source": [
    "y.add(60)\n",
    "print(y)"
   ]
  },
  {
   "cell_type": "markdown",
   "metadata": {
    "ExecuteTime": {
     "end_time": "2020-04-23T12:45:07.836265Z",
     "start_time": "2020-04-23T12:45:07.828657Z"
    }
   },
   "source": [
    "* add multiple items to the set"
   ]
  },
  {
   "cell_type": "code",
   "execution_count": 5,
   "metadata": {
    "ExecuteTime": {
     "end_time": "2020-04-23T12:46:20.661141Z",
     "start_time": "2020-04-23T12:46:20.650715Z"
    }
   },
   "outputs": [
    {
     "name": "stdout",
     "output_type": "stream",
     "text": [
      "{'1test', '2test', '3test', 'tst', 'long test', 52, 53, 54, 'test', 55, 60}\n"
     ]
    }
   ],
   "source": [
    "t = {'1test', '2test', '3test'}\n",
    "y.update(t)\n",
    "print(y)"
   ]
  },
  {
   "cell_type": "markdown",
   "metadata": {
    "ExecuteTime": {
     "end_time": "2020-04-23T12:45:14.108185Z",
     "start_time": "2020-04-23T12:45:14.102482Z"
    }
   },
   "source": [
    "* remove an item from a set if it is present in the set"
   ]
  },
  {
   "cell_type": "code",
   "execution_count": 6,
   "metadata": {
    "ExecuteTime": {
     "end_time": "2020-04-23T12:46:21.067703Z",
     "start_time": "2020-04-23T12:46:21.061624Z"
    }
   },
   "outputs": [],
   "source": [
    "y.remove('tst')"
   ]
  },
  {
   "cell_type": "markdown",
   "metadata": {},
   "source": [
    "* find maximum and minimum values of the set"
   ]
  },
  {
   "cell_type": "code",
   "execution_count": 7,
   "metadata": {
    "ExecuteTime": {
     "end_time": "2020-04-23T12:46:21.801693Z",
     "start_time": "2020-04-23T12:46:21.794587Z"
    }
   },
   "outputs": [
    {
     "name": "stdout",
     "output_type": "stream",
     "text": [
      "the max is 11\n",
      "the min is 1\n"
     ]
    }
   ],
   "source": [
    "n = set([1,2,3,4,5,6,7,8,2,3,4,5,6,7,8,3,1,3,4,5,11])\n",
    "print(f'the max is',max(n))\n",
    "print(f'the min is',min(n))"
   ]
  },
  {
   "cell_type": "markdown",
   "metadata": {},
   "source": [
    "* print the length of the set"
   ]
  },
  {
   "cell_type": "code",
   "execution_count": 8,
   "metadata": {
    "ExecuteTime": {
     "end_time": "2020-04-23T12:46:22.281394Z",
     "start_time": "2020-04-23T12:46:22.275978Z"
    }
   },
   "outputs": [
    {
     "name": "stdout",
     "output_type": "stream",
     "text": [
      "the length is 9\n"
     ]
    }
   ],
   "source": [
    "print(f'the length is', len(n))"
   ]
  },
  {
   "cell_type": "code",
   "execution_count": null,
   "metadata": {
    "ExecuteTime": {
     "end_time": "2020-04-23T12:46:22.783616Z",
     "start_time": "2020-04-23T12:46:22.779193Z"
    }
   },
   "outputs": [],
   "source": []
  },
  {
   "cell_type": "markdown",
   "metadata": {},
   "source": [
    "* create an intersection of x and y"
   ]
  },
  {
   "cell_type": "code",
   "execution_count": 9,
   "metadata": {
    "ExecuteTime": {
     "end_time": "2020-04-23T12:46:23.277505Z",
     "start_time": "2020-04-23T12:46:23.270998Z"
    }
   },
   "outputs": [
    {
     "name": "stdout",
     "output_type": "stream",
     "text": [
      "{3, 4}\n"
     ]
    }
   ],
   "source": [
    "x = set([1,2,3,4])\n",
    "y = set([3,6,5,4])\n",
    "intersection = x.intersection(y)\n",
    "print(intersection)"
   ]
  },
  {
   "cell_type": "markdown",
   "metadata": {},
   "source": [
    "* create an union of x and y"
   ]
  },
  {
   "cell_type": "code",
   "execution_count": 10,
   "metadata": {
    "ExecuteTime": {
     "end_time": "2020-04-23T12:46:23.716826Z",
     "start_time": "2020-04-23T12:46:23.709614Z"
    }
   },
   "outputs": [
    {
     "name": "stdout",
     "output_type": "stream",
     "text": [
      "{1, 2, 3, 4, 5, 6}\n"
     ]
    }
   ],
   "source": [
    "union = x.union(y)\n",
    "print(union)"
   ]
  },
  {
   "cell_type": "markdown",
   "metadata": {},
   "source": [
    "* create difference between x and y"
   ]
  },
  {
   "cell_type": "code",
   "execution_count": 11,
   "metadata": {
    "ExecuteTime": {
     "end_time": "2020-04-23T12:46:24.122128Z",
     "start_time": "2020-04-23T12:46:24.109428Z"
    }
   },
   "outputs": [
    {
     "name": "stdout",
     "output_type": "stream",
     "text": [
      "{1, 2}\n"
     ]
    }
   ],
   "source": [
    "difference = x - y\n",
    "print(difference)"
   ]
  },
  {
   "cell_type": "markdown",
   "metadata": {
    "ExecuteTime": {
     "end_time": "2020-03-11T15:45:04.754557Z",
     "start_time": "2020-03-11T15:45:04.734426Z"
    }
   },
   "source": [
    "---------------\n",
    "## Collections"
   ]
  },
  {
   "cell_type": "markdown",
   "metadata": {},
   "source": [
    "* for each word in a sentence count the occurence\n",
    "* **sentence:** *black cat jumped over white cat*"
   ]
  },
  {
   "cell_type": "code",
   "execution_count": 12,
   "metadata": {
    "ExecuteTime": {
     "end_time": "2020-04-23T12:46:24.725222Z",
     "start_time": "2020-04-23T12:46:24.718367Z"
    }
   },
   "outputs": [
    {
     "name": "stdout",
     "output_type": "stream",
     "text": [
      "Counter({' ': 5, 'a': 3, 'c': 3, 't': 3, 'e': 3, 'b': 1, 'l': 1, 'k': 1, 'j': 1, 'u': 1, 'm': 1, 'p': 1, 'd': 1, 'o': 1, 'v': 1, 'r': 1, 'w': 1, 'h': 1, 'i': 1})\n"
     ]
    }
   ],
   "source": [
    "import collections\n",
    "from collections import Counter\n",
    "sentence = 'black cat jumped over white cat'\n",
    "cnt = Counter(sentence)\n",
    "print(cnt)"
   ]
  },
  {
   "cell_type": "markdown",
   "metadata": {},
   "source": [
    "* print the most common words"
   ]
  },
  {
   "cell_type": "code",
   "execution_count": 13,
   "metadata": {
    "ExecuteTime": {
     "end_time": "2020-04-23T12:46:25.137822Z",
     "start_time": "2020-04-23T12:46:25.125541Z"
    }
   },
   "outputs": [
    {
     "name": "stdout",
     "output_type": "stream",
     "text": [
      "[('cat', 2), ('black', 1), ('jumped', 1)]\n"
     ]
    }
   ],
   "source": [
    "words = sentence.split()\n",
    "cnt = Counter(words)\n",
    "#print(cnt)\n",
    "print(cnt.most_common(3))"
   ]
  },
  {
   "cell_type": "markdown",
   "metadata": {},
   "source": [
    "* count the occurences of words in the same sentence but now use **defaultdict**"
   ]
  },
  {
   "cell_type": "code",
   "execution_count": 14,
   "metadata": {
    "ExecuteTime": {
     "end_time": "2020-04-23T12:46:25.584924Z",
     "start_time": "2020-04-23T12:46:25.576870Z"
    }
   },
   "outputs": [
    {
     "name": "stdout",
     "output_type": "stream",
     "text": [
      "defaultdict(<class 'int'>, {'black': 1, 'cat': 2, 'jumped': 1, 'over': 1, 'white': 1})\n"
     ]
    }
   ],
   "source": [
    "from collections import defaultdict\n",
    "count = defaultdict(int)\n",
    "for word in words:\n",
    "    count[word] += 1\n",
    "print(count)"
   ]
  },
  {
   "cell_type": "markdown",
   "metadata": {
    "ExecuteTime": {
     "end_time": "2020-04-23T12:42:40.229428Z",
     "start_time": "2020-04-23T12:42:40.222302Z"
    }
   },
   "source": [
    "* create deque from list set used in first exercise"
   ]
  },
  {
   "cell_type": "code",
   "execution_count": 15,
   "metadata": {
    "ExecuteTime": {
     "end_time": "2020-04-23T12:46:26.011195Z",
     "start_time": "2020-04-23T12:46:26.007688Z"
    }
   },
   "outputs": [
    {
     "name": "stdout",
     "output_type": "stream",
     "text": [
      "{'tst', 'long test', 52, 53, 54, 'test', 55}\n",
      "deque(['tst', 'long test', 52, 53, 54, 'test', 55])\n"
     ]
    }
   ],
   "source": [
    "from collections import deque\n",
    "y = set(['test',52,'test',53,'long test',54,'tst',55,53,52])\n",
    "print(y)\n",
    "deq = deque(y)\n",
    "print(deq)"
   ]
  },
  {
   "cell_type": "markdown",
   "metadata": {},
   "source": [
    "* append number 10 to deque"
   ]
  },
  {
   "cell_type": "code",
   "execution_count": 16,
   "metadata": {
    "ExecuteTime": {
     "end_time": "2020-04-23T12:46:26.406289Z",
     "start_time": "2020-04-23T12:46:26.397483Z"
    }
   },
   "outputs": [
    {
     "name": "stdout",
     "output_type": "stream",
     "text": [
      "deque(['tst', 'long test', 52, 53, 54, 'test', 55, 10])\n"
     ]
    }
   ],
   "source": [
    "deq.append(10)\n",
    "print(deq)"
   ]
  },
  {
   "cell_type": "markdown",
   "metadata": {},
   "source": [
    "* remove element from the right end from deque"
   ]
  },
  {
   "cell_type": "code",
   "execution_count": 17,
   "metadata": {
    "ExecuteTime": {
     "end_time": "2020-04-23T12:46:26.788077Z",
     "start_time": "2020-04-23T12:46:26.776926Z"
    }
   },
   "outputs": [
    {
     "name": "stdout",
     "output_type": "stream",
     "text": [
      "deque(['tst', 'long test', 52, 53, 54, 'test', 55])\n"
     ]
    }
   ],
   "source": [
    "deq.pop()\n",
    "print(deq)"
   ]
  },
  {
   "cell_type": "markdown",
   "metadata": {},
   "source": [
    "* remove element from the left end from deque"
   ]
  },
  {
   "cell_type": "code",
   "execution_count": 18,
   "metadata": {
    "ExecuteTime": {
     "end_time": "2020-04-23T12:46:27.379076Z",
     "start_time": "2020-04-23T12:46:27.373076Z"
    }
   },
   "outputs": [
    {
     "name": "stdout",
     "output_type": "stream",
     "text": [
      "deque(['long test', 52, 53, 54, 'test', 55])\n"
     ]
    }
   ],
   "source": [
    "deq.popleft()\n",
    "print(deq)"
   ]
  },
  {
   "cell_type": "markdown",
   "metadata": {},
   "source": [
    "* delete all elements from deque"
   ]
  },
  {
   "cell_type": "code",
   "execution_count": 19,
   "metadata": {
    "ExecuteTime": {
     "end_time": "2020-04-23T12:46:27.788235Z",
     "start_time": "2020-04-23T12:46:27.778162Z"
    }
   },
   "outputs": [
    {
     "name": "stdout",
     "output_type": "stream",
     "text": [
      "deque(['long test', 52, 53, 54, 'test', 55])\n",
      "deque([])\n"
     ]
    }
   ],
   "source": [
    "print(deq)\n",
    "deq.clear()\n",
    "print(deq)"
   ]
  },
  {
   "cell_type": "markdown",
   "metadata": {},
   "source": [
    "* create named tuple (people) with name and surname as position names"
   ]
  },
  {
   "cell_type": "code",
   "execution_count": 20,
   "metadata": {
    "ExecuteTime": {
     "end_time": "2020-04-23T12:46:28.173030Z",
     "start_time": "2020-04-23T12:46:28.165072Z"
    }
   },
   "outputs": [],
   "source": [
    "from collections import namedtuple\n",
    "\n",
    "People = namedtuple('People', 'name, surname')\n",
    "p1 = People('John','Susnik')"
   ]
  },
  {
   "cell_type": "markdown",
   "metadata": {},
   "source": [
    "* print name and surname"
   ]
  },
  {
   "cell_type": "code",
   "execution_count": 21,
   "metadata": {},
   "outputs": [
    {
     "name": "stdout",
     "output_type": "stream",
     "text": [
      "People(name='John', surname='Susnik')\n",
      "John\n",
      "Susnik\n"
     ]
    }
   ],
   "source": [
    "print(p1)\n",
    "print(p1.name)\n",
    "print(p1.surname)"
   ]
  },
  {
   "cell_type": "code",
   "execution_count": null,
   "metadata": {
    "ExecuteTime": {
     "end_time": "2020-04-23T12:46:28.538932Z",
     "start_time": "2020-04-23T12:46:28.535095Z"
    }
   },
   "outputs": [],
   "source": []
  },
  {
   "cell_type": "markdown",
   "metadata": {},
   "source": [
    "_________________\n",
    "## Exception handling\n",
    "Now, let's practice with **errors and exception handling**\n",
    "\n",
    "* Transform all string elements from a list to upper, if the element is not a string don't transform it.\n",
    "* Use a try & except block without using the 'if' statement."
   ]
  },
  {
   "cell_type": "code",
   "execution_count": 22,
   "metadata": {
    "ExecuteTime": {
     "end_time": "2020-04-23T12:46:29.120210Z",
     "start_time": "2020-04-23T12:46:29.109343Z"
    }
   },
   "outputs": [
    {
     "name": "stdout",
     "output_type": "stream",
     "text": [
      "<class 'list'>\n"
     ]
    }
   ],
   "source": [
    "s = ['foo', 'bar', 3, 'baz']\n",
    "print(type(s))"
   ]
  },
  {
   "cell_type": "code",
   "execution_count": 40,
   "metadata": {},
   "outputs": [],
   "source": [
    "def listStringUpper(s):\n",
    "    \n",
    "    j = len(s)\n",
    "    i = 0\n",
    "    \n",
    "    while i < j:\n",
    "        try:\n",
    "            s[i] = s[i].upper()\n",
    "            print(s[i])\n",
    "            i +=1\n",
    "        except:\n",
    "            print('error')\n",
    "            i +=1\n",
    "    return"
   ]
  },
  {
   "cell_type": "code",
   "execution_count": 42,
   "metadata": {},
   "outputs": [
    {
     "name": "stdout",
     "output_type": "stream",
     "text": [
      "FOO\n",
      "BAR\n",
      "error\n",
      "BAZ\n",
      "['FOO', 'BAR', 3, 'BAZ']\n"
     ]
    }
   ],
   "source": [
    "listStringUpper(s)\n",
    "print(s)"
   ]
  },
  {
   "cell_type": "markdown",
   "metadata": {},
   "source": [
    "### We have created a function below:\n",
    "\n",
    "Luke Skywalker has family and friends. Help him remind himself the type of relation he has with his family and friends. \n",
    "\n",
    "Given a string with a name, return the relation of that person to Luke.\n",
    "\n",
    "**Person --> Relation**\n",
    "- Darth Vader --> father\n",
    "- Leia --> sister\n",
    "- Han --> brother in law\n",
    "- R2D2 --> droid\n",
    "\n",
    "#### Examples\n",
    "\n",
    "> relation_to_luke(\"Darth Vader\") ➞ \"Luke, I am your father.\"\n",
    ">\n",
    "> relation_to_luke(\"Leia\") ➞ \"Luke, I am your sister.\"\n",
    ">\n",
    "> relation_to_luke(\"Han\") ➞ \"Luke, I am your brother in law.\""
   ]
  },
  {
   "cell_type": "code",
   "execution_count": 83,
   "metadata": {},
   "outputs": [
    {
     "name": "stdout",
     "output_type": "stream",
     "text": [
      "<class 'dict'>\n",
      "father\n"
     ]
    }
   ],
   "source": [
    "_dict = {}\n",
    "print(str(type(_dict)))\n",
    "_dict[\"Darth Vader\"] = \"father\"\n",
    "\n",
    "print(str(_dict[\"Darth Vader\"]))"
   ]
  },
  {
   "cell_type": "code",
   "execution_count": 104,
   "metadata": {},
   "outputs": [],
   "source": [
    "from collections import deque\n",
    "\n",
    "def relation_to_luke(text):\n",
    "    _dict = {}\n",
    "    _dict[\"Darth Vader\"] = \"father\"\n",
    "    _dict[\"Leia\"] = \"sister\"\n",
    "    _dict[\"Han\"] = \"brother in law\"\n",
    "    _dict[\"R2D2\"] = \"droid\"\n",
    "    \n",
    "    try:\n",
    "        print(f\"Luke, I am your \" + str(_dict[text]))\n",
    "    except:\n",
    "        print(f\" {text} is not in the relation with Luke\")\n",
    "    return"
   ]
  },
  {
   "cell_type": "markdown",
   "metadata": {},
   "source": [
    "#### Task I\n",
    "Fix errors in the function above so we can run following code"
   ]
  },
  {
   "cell_type": "code",
   "execution_count": 102,
   "metadata": {},
   "outputs": [
    {
     "name": "stdout",
     "output_type": "stream",
     "text": [
      "Luke, I am your father\n",
      "Luke, I am your sister\n",
      "Luke, I am your brother in law\n",
      "Luke, I am your droid\n"
     ]
    }
   ],
   "source": [
    "relation_to_luke(\"Darth Vader\")\n",
    "relation_to_luke(\"Leia\")\n",
    "relation_to_luke(\"Han\")\n",
    "relation_to_luke(\"R2D2\")"
   ]
  },
  {
   "cell_type": "code",
   "execution_count": null,
   "metadata": {},
   "outputs": [],
   "source": []
  },
  {
   "cell_type": "markdown",
   "metadata": {},
   "source": [
    "#### Task II\n",
    "Use exception handling so we can run the function with any string. In this case, the function will return following:\n",
    "\n",
    "**relation_to_luke(\"aaaa\") ➞ \"aaaa is not in the relation with Luke\"**\n",
    "\n",
    "**Note:** Do **Not** use an **if** statement for this"
   ]
  },
  {
   "cell_type": "code",
   "execution_count": 105,
   "metadata": {},
   "outputs": [
    {
     "name": "stdout",
     "output_type": "stream",
     "text": [
      " aaaa is not in the relation with Luke\n"
     ]
    }
   ],
   "source": [
    "relation_to_luke(\"aaaa\")"
   ]
  },
  {
   "cell_type": "code",
   "execution_count": null,
   "metadata": {},
   "outputs": [],
   "source": []
  }
 ],
 "metadata": {
  "kernelspec": {
   "display_name": "Python 3",
   "language": "python",
   "name": "python3"
  },
  "language_info": {
   "codemirror_mode": {
    "name": "ipython",
    "version": 3
   },
   "file_extension": ".py",
   "mimetype": "text/x-python",
   "name": "python",
   "nbconvert_exporter": "python",
   "pygments_lexer": "ipython3",
   "version": "3.8.8"
  },
  "toc": {
   "base_numbering": 1,
   "nav_menu": {},
   "number_sections": true,
   "sideBar": true,
   "skip_h1_title": false,
   "title_cell": "Table of Contents",
   "title_sidebar": "Contents",
   "toc_cell": false,
   "toc_position": {},
   "toc_section_display": true,
   "toc_window_display": false
  },
  "varInspector": {
   "cols": {
    "lenName": 16,
    "lenType": 16,
    "lenVar": 40
   },
   "kernels_config": {
    "python": {
     "delete_cmd_postfix": "",
     "delete_cmd_prefix": "del ",
     "library": "var_list.py",
     "varRefreshCmd": "print(var_dic_list())"
    },
    "r": {
     "delete_cmd_postfix": ") ",
     "delete_cmd_prefix": "rm(",
     "library": "var_list.r",
     "varRefreshCmd": "cat(var_dic_list()) "
    }
   },
   "types_to_exclude": [
    "module",
    "function",
    "builtin_function_or_method",
    "instance",
    "_Feature"
   ],
   "window_display": false
  }
 },
 "nbformat": 4,
 "nbformat_minor": 4
}
